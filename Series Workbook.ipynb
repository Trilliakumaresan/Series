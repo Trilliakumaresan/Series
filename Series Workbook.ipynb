{
 "cells": [
  {
   "cell_type": "code",
   "execution_count": 1,
   "id": "5546066f-6734-4578-81dc-b3595efa949c",
   "metadata": {},
   "outputs": [],
   "source": [
    "import pandas as pd"
   ]
  },
  {
   "cell_type": "markdown",
   "id": "82e5ab34-a399-41a0-94d7-d2b3d6b7e0e5",
   "metadata": {},
   "source": [
    "Dataframe"
   ]
  },
  {
   "cell_type": "code",
   "execution_count": 2,
   "id": "36777659-13d6-45b9-be38-320fb81adcf8",
   "metadata": {},
   "outputs": [],
   "source": [
    "data = {'Product': ['TV', 'Laptop', 'Phone'], 'Price': [500, 1200, 800]}\n",
    "df = pd.DataFrame(data)"
   ]
  },
  {
   "cell_type": "code",
   "execution_count": 3,
   "id": "17b6a54d-b0af-485e-8110-4921082c7d48",
   "metadata": {},
   "outputs": [
    {
     "name": "stdout",
     "output_type": "stream",
     "text": [
      "  Product  Price\n",
      "0      TV    500\n",
      "1  Laptop   1200\n",
      "2   Phone    800\n"
     ]
    }
   ],
   "source": [
    "print(df)"
   ]
  },
  {
   "cell_type": "markdown",
   "id": "7d38e207-44a8-4299-a270-f135d747be07",
   "metadata": {},
   "source": [
    "Series"
   ]
  },
  {
   "cell_type": "code",
   "execution_count": 4,
   "id": "c83d37c8-a839-4ff5-a06e-644b8b7f6593",
   "metadata": {},
   "outputs": [
    {
     "name": "stdout",
     "output_type": "stream",
     "text": [
      "0    10\n",
      "1    20\n",
      "2    30\n",
      "3    40\n",
      "dtype: int64\n"
     ]
    }
   ],
   "source": [
    "data = [10, 20, 30, 40]\n",
    "s = pd.Series(data)\n",
    "print(s)"
   ]
  },
  {
   "cell_type": "markdown",
   "id": "ae017d04-7682-4cef-93f1-20599c0bea0c",
   "metadata": {},
   "source": [
    "In this example, the numbers 0, 1, 2, 3 represent the default index of the Series. You can also specify custom indices:"
   ]
  },
  {
   "cell_type": "code",
   "execution_count": 5,
   "id": "3bfe6e4f-515c-49d0-916a-e64638e7276e",
   "metadata": {},
   "outputs": [
    {
     "name": "stdout",
     "output_type": "stream",
     "text": [
      "a    10\n",
      "b    20\n",
      "c    30\n",
      "d    40\n",
      "dtype: int64\n"
     ]
    }
   ],
   "source": [
    "s = pd.Series(data, index=['a', 'b', 'c', 'd'])\n",
    "print(s)"
   ]
  },
  {
   "cell_type": "code",
   "execution_count": 7,
   "id": "a05bdc3c-5249-455f-ae7a-368438b6e94f",
   "metadata": {},
   "outputs": [
    {
     "name": "stdout",
     "output_type": "stream",
     "text": [
      "0    123.4\n",
      "1     12.4\n",
      "2     14.8\n",
      "dtype: float64\n"
     ]
    }
   ],
   "source": [
    "data3=[123.4,12.4,14.8]\n",
    "s1=pd.Series(data3)\n",
    "print(s1)"
   ]
  },
  {
   "cell_type": "markdown",
   "id": "4e40be71-e8e4-4e57-b818-5f2ae4d97ecf",
   "metadata": {},
   "source": [
    "Series can hold different data types"
   ]
  },
  {
   "cell_type": "code",
   "execution_count": 9,
   "id": "d62b5501-0d02-4158-a41d-40898887a25c",
   "metadata": {},
   "outputs": [
    {
     "name": "stdout",
     "output_type": "stream",
     "text": [
      "0            True\n",
      "1             say\n",
      "2    {'a': 'yes'}\n",
      "dtype: object\n"
     ]
    }
   ],
   "source": [
    "data4 = [True, \"say\", {'a':'yes'}]\n",
    "s2=pd.Series(data4)\n",
    "print(s2)"
   ]
  },
  {
   "cell_type": "markdown",
   "id": "1413919b-ce81-445f-91ca-b778a4c6d7db",
   "metadata": {},
   "source": [
    "Series vs. DataFrame:\n",
    "A Series is a single column of data.\n",
    "A DataFrame is a collection of multiple Series, structured in a tabular format.\n",
    "Series: Has a simple structure with a single axis of labels (indices). It can store any data type (int, float, string, etc.).\n",
    "DataFrame: Has a more complex structure with two axes—rows and columns—allowing it to store multiple Series as columns. DataFrames can store heterogeneous data (different data types in different columns)."
   ]
  },
  {
   "cell_type": "markdown",
   "id": "f18a9aa1-1ecf-4b30-b3ad-bb9da42e7a65",
   "metadata": {},
   "source": [
    "dtype Attribute"
   ]
  },
  {
   "cell_type": "code",
   "execution_count": null,
   "id": "f555536a-83a8-4071-b515-817359b061c6",
   "metadata": {},
   "outputs": [],
   "source": [
    "In Series"
   ]
  },
  {
   "cell_type": "code",
   "execution_count": 10,
   "id": "1d9b393d-df54-482b-ac19-ef174b271c6b",
   "metadata": {},
   "outputs": [
    {
     "name": "stdout",
     "output_type": "stream",
     "text": [
      "int64\n"
     ]
    }
   ],
   "source": [
    "import pandas as pd\n",
    "s = pd.Series([1, 2, 3, 4])\n",
    "print(s.dtype)"
   ]
  },
  {
   "cell_type": "markdown",
   "id": "a8b38ad6-e6c8-47e5-853e-3c89384b9065",
   "metadata": {},
   "source": [
    "In Dataframe"
   ]
  },
  {
   "cell_type": "code",
   "execution_count": 11,
   "id": "83e5ff8f-cd53-47c5-866f-b758b9b7978b",
   "metadata": {},
   "outputs": [
    {
     "name": "stdout",
     "output_type": "stream",
     "text": [
      "Name       object\n",
      "Age         int64\n",
      "Height    float64\n",
      "dtype: object\n"
     ]
    }
   ],
   "source": [
    "df = pd.DataFrame({\n",
    "    'Name': ['Alice', 'Bob', 'Charlie'],\n",
    "    'Age': [25, 30, 35],\n",
    "    'Height': [5.5, 6.0, 5.8]\n",
    "})\n",
    "print(df.dtypes)"
   ]
  },
  {
   "cell_type": "markdown",
   "id": "dbda24ca-49a2-4690-8975-eea8c330d6e4",
   "metadata": {},
   "source": [
    ".dtype: Returns the data type of a single Series.\n",
    ".dtypes: Returns the data types of all columns in a DataFrame.\n",
    "Useful for understanding how Pandas interprets the data, which helps avoid issues with incompatible data types during analysis."
   ]
  },
  {
   "cell_type": "code",
   "execution_count": 12,
   "id": "1ba828d7-f025-47b8-b6d1-a27779379514",
   "metadata": {},
   "outputs": [
    {
     "data": {
      "text/plain": [
       "'2.1.4'"
      ]
     },
     "execution_count": 12,
     "metadata": {},
     "output_type": "execute_result"
    }
   ],
   "source": [
    "pd.__version__"
   ]
  },
  {
   "cell_type": "markdown",
   "id": "b9628991-fa8e-4848-8dfc-392dd1fd31a7",
   "metadata": {},
   "source": [
    "Skill Challenge"
   ]
  },
  {
   "cell_type": "code",
   "execution_count": 13,
   "id": "13a646e2-8f27-4d79-b602-bba139233ecc",
   "metadata": {},
   "outputs": [],
   "source": [
    "actors = [\"Ajith\", \"Sethu\", \"Siva\", \"Mani\"]"
   ]
  },
  {
   "cell_type": "code",
   "execution_count": 14,
   "id": "6e96974c-43ad-42be-aba6-9a529175f9fe",
   "metadata": {},
   "outputs": [],
   "source": [
    "ages =[58,52,48,34]"
   ]
  },
  {
   "cell_type": "code",
   "execution_count": 15,
   "id": "4ae6d0e4-0c88-44b5-a036-c13e517b9722",
   "metadata": {},
   "outputs": [
    {
     "name": "stdout",
     "output_type": "stream",
     "text": [
      "Ajith    58\n",
      "Sethu    52\n",
      "Siva     48\n",
      "Mani     34\n",
      "dtype: int64\n"
     ]
    }
   ],
   "source": [
    "skill_series =pd.Series(ages, index=actors)\n",
    "print(skill_series)"
   ]
  },
  {
   "cell_type": "code",
   "execution_count": 17,
   "id": "4d82cfec-a92b-4151-bb4f-f7458654d8ba",
   "metadata": {},
   "outputs": [
    {
     "data": {
      "text/plain": [
       "{'Ajith': 58, 'Sethu': 52, 'Siva': 48, 'Mani': 34}"
      ]
     },
     "execution_count": 17,
     "metadata": {},
     "output_type": "execute_result"
    }
   ],
   "source": [
    "dict(zip(actors,ages))"
   ]
  },
  {
   "cell_type": "code",
   "execution_count": 18,
   "id": "b2710e0c-1829-4e32-94d4-98eca6e2c523",
   "metadata": {},
   "outputs": [],
   "source": [
    "skill_series_dict=pd.Series(dict(zip(actors,ages)))"
   ]
  },
  {
   "cell_type": "code",
   "execution_count": 19,
   "id": "bc853839-f1e4-4768-b26b-5fd8989bee48",
   "metadata": {},
   "outputs": [
    {
     "name": "stdout",
     "output_type": "stream",
     "text": [
      "Ajith    58\n",
      "Sethu    52\n",
      "Siva     48\n",
      "Mani     34\n",
      "dtype: int64\n"
     ]
    }
   ],
   "source": [
    "print(skill_series)"
   ]
  },
  {
   "cell_type": "markdown",
   "id": "495442ed-1e0b-426c-b1ad-28838adb9a73",
   "metadata": {},
   "source": [
    "Skill Challenge in accessing data"
   ]
  },
  {
   "cell_type": "code",
   "execution_count": 22,
   "id": "5a85a58a-c626-48cf-ae7c-137281d3ea35",
   "metadata": {},
   "outputs": [],
   "source": [
    "square = pd.Series([i**2 for i in range(100)])"
   ]
  },
  {
   "cell_type": "code",
   "execution_count": 25,
   "id": "9ba1b693-f683-4ec0-b885-7aa0e9984c6f",
   "metadata": {},
   "outputs": [
    {
     "data": {
      "text/plain": [
       "0     0\n",
       "1     1\n",
       "2     4\n",
       "3     9\n",
       "4    16\n",
       "dtype: int64"
      ]
     },
     "execution_count": 25,
     "metadata": {},
     "output_type": "execute_result"
    }
   ],
   "source": [
    "square.head()\n"
   ]
  },
  {
   "cell_type": "code",
   "execution_count": 26,
   "id": "d74756b3-801f-4cc5-8c91-09cf47e51e16",
   "metadata": {},
   "outputs": [
    {
     "data": {
      "text/plain": [
       "4    16\n",
       "5    25\n",
       "6    36\n",
       "7    49\n",
       "dtype: int64"
      ]
     },
     "execution_count": 26,
     "metadata": {},
     "output_type": "execute_result"
    }
   ],
   "source": [
    "square[4:8]"
   ]
  },
  {
   "cell_type": "code",
   "execution_count": 27,
   "id": "3cc4aa21-d8a1-4de4-87c3-571b943d42f8",
   "metadata": {},
   "outputs": [
    {
     "data": {
      "text/plain": [
       "97    9409\n",
       "98    9604\n",
       "99    9801\n",
       "dtype: int64"
      ]
     },
     "execution_count": 27,
     "metadata": {},
     "output_type": "execute_result"
    }
   ],
   "source": [
    "square[-3:]"
   ]
  },
  {
   "cell_type": "code",
   "execution_count": 28,
   "id": "670dce77-4bc5-41fb-a675-91ce02545ac9",
   "metadata": {},
   "outputs": [
    {
     "data": {
      "text/plain": [
       "97    9409\n",
       "98    9604\n",
       "99    9801\n",
       "dtype: int64"
      ]
     },
     "execution_count": 28,
     "metadata": {},
     "output_type": "execute_result"
    }
   ],
   "source": [
    "square.iloc[-3:]"
   ]
  },
  {
   "cell_type": "code",
   "execution_count": 29,
   "id": "002cde05-df90-44f4-b6d9-6b72e405c7ab",
   "metadata": {},
   "outputs": [
    {
     "data": {
      "text/plain": [
       "97    9409\n",
       "98    9604\n",
       "99    9801\n",
       "dtype: int64"
      ]
     },
     "execution_count": 29,
     "metadata": {},
     "output_type": "execute_result"
    }
   ],
   "source": [
    "square.tail(3)"
   ]
  },
  {
   "cell_type": "code",
   "execution_count": 31,
   "id": "8d928c75-c048-4e12-be3e-cc7a1cf40ef1",
   "metadata": {},
   "outputs": [
    {
     "data": {
      "text/plain": [
       "True"
      ]
     },
     "execution_count": 31,
     "metadata": {},
     "output_type": "execute_result"
    }
   ],
   "source": [
    "square[-3:].equals(square.tail(3))"
   ]
  },
  {
   "cell_type": "code",
   "execution_count": null,
   "id": "e7604a85-aa15-4441-af04-56f0046d9dd7",
   "metadata": {},
   "outputs": [],
   "source": []
  }
 ],
 "metadata": {
  "kernelspec": {
   "display_name": "Python 3 (ipykernel)",
   "language": "python",
   "name": "python3"
  },
  "language_info": {
   "codemirror_mode": {
    "name": "ipython",
    "version": 3
   },
   "file_extension": ".py",
   "mimetype": "text/x-python",
   "name": "python",
   "nbconvert_exporter": "python",
   "pygments_lexer": "ipython3",
   "version": "3.11.7"
  }
 },
 "nbformat": 4,
 "nbformat_minor": 5
}
